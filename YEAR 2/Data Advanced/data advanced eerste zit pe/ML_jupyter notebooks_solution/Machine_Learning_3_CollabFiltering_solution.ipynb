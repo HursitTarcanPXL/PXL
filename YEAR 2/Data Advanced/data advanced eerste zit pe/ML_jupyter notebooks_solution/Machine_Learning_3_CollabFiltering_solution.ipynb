{
 "cells": [
  {
   "cell_type": "markdown",
   "metadata": {},
   "source": [
    "# Machine Learning with Collaborative Filtering"
   ]
  },
  {
   "cell_type": "markdown",
   "metadata": {},
   "source": [
    "## Contents\n",
    "1. **Loading** movie dataset\n",
    "2. Creating your movie **profile**\n",
    "3. **Predicting** ratings\n",
    "4. Finding **recommendations**"
   ]
  },
  {
   "cell_type": "markdown",
   "metadata": {},
   "source": [
    "In this challenge exercise, we will implement user-item collaborative filtering. \n",
    "We will first make a prediction for the rating you would give to a certain movie. Then we will generate recommendations, based on the movies that people similar to you liked.\n",
    "\n",
    "You will need two data files, which can be found in the `moviedata` folder. The data is separated with tabs.\n",
    "* `ratings.data`, which contains the ratings of 100,000 movies by many users (4 fields : user_id, movie_id, rating, timestamp).\n",
    "* `movies.data`, a mapping between movie ID's and titles."
   ]
  },
  {
   "cell_type": "markdown",
   "metadata": {},
   "source": [
    "## 1. Loading movie dataset"
   ]
  },
  {
   "cell_type": "markdown",
   "metadata": {},
   "source": [
    "First, we will load the `ratings.data` and `movies.data`. We will use the Python library [Pandas](http://pandas.pydata.org/) for this and load the data into a [DataFrame](http://pandas.pydata.org/pandas-docs/stable/generated/pandas.DataFrame.html).\n",
    "\n",
    "Find the function in Pandas that is used to read csv data and use it to load the ratings and titles. Don't forget to specify the separator!\n",
    "\n",
    "(Hint: if you encounter encoding problems, set the encoding to 'cp1252'.)"
   ]
  },
  {
   "cell_type": "code",
   "execution_count": null,
   "metadata": {
    "collapsed": true
   },
   "outputs": [],
   "source": [
    "import pandas as pd\n",
    "\n",
    "ratings =  # TODO: load moviedata/ratings.data\n",
    "movies =  # TODO: load moviedata/movies.data"
   ]
  },
  {
   "cell_type": "code",
   "execution_count": 2,
   "metadata": {},
   "outputs": [],
   "source": [
    "### SOLUTION ###\n",
    "import pandas as pd\n",
    "\n",
    "ratings = pd.read_csv(\"ratings.data\", sep=\"\\t\")\n",
    "movies = pd.read_csv(\"movies.data\", sep='\\t', encoding=\"cp1252\")"
   ]
  },
  {
   "cell_type": "markdown",
   "metadata": {},
   "source": [
    "We can look at our new dataframes with the `.head()` function. This gives us the first five rows of the dataframe (unless you put a different number between the brackets)."
   ]
  },
  {
   "cell_type": "code",
   "execution_count": 6,
   "metadata": {},
   "outputs": [
    {
     "data": {
      "text/html": [
       "<div>\n",
       "<style scoped>\n",
       "    .dataframe tbody tr th:only-of-type {\n",
       "        vertical-align: middle;\n",
       "    }\n",
       "\n",
       "    .dataframe tbody tr th {\n",
       "        vertical-align: top;\n",
       "    }\n",
       "\n",
       "    .dataframe thead th {\n",
       "        text-align: right;\n",
       "    }\n",
       "</style>\n",
       "<table border=\"1\" class=\"dataframe\">\n",
       "  <thead>\n",
       "    <tr style=\"text-align: right;\">\n",
       "      <th></th>\n",
       "      <th>movie_id</th>\n",
       "      <th>title</th>\n",
       "    </tr>\n",
       "  </thead>\n",
       "  <tbody>\n",
       "    <tr>\n",
       "      <th>0</th>\n",
       "      <td>1</td>\n",
       "      <td>Toy Story (1995)</td>\n",
       "    </tr>\n",
       "    <tr>\n",
       "      <th>1</th>\n",
       "      <td>2</td>\n",
       "      <td>GoldenEye (1995)</td>\n",
       "    </tr>\n",
       "    <tr>\n",
       "      <th>2</th>\n",
       "      <td>3</td>\n",
       "      <td>Four Rooms (1995)</td>\n",
       "    </tr>\n",
       "    <tr>\n",
       "      <th>3</th>\n",
       "      <td>4</td>\n",
       "      <td>Get Shorty (1995)</td>\n",
       "    </tr>\n",
       "    <tr>\n",
       "      <th>4</th>\n",
       "      <td>5</td>\n",
       "      <td>Copycat (1995)</td>\n",
       "    </tr>\n",
       "  </tbody>\n",
       "</table>\n",
       "</div>"
      ],
      "text/plain": [
       "   movie_id              title\n",
       "0         1   Toy Story (1995)\n",
       "1         2   GoldenEye (1995)\n",
       "2         3  Four Rooms (1995)\n",
       "3         4  Get Shorty (1995)\n",
       "4         5     Copycat (1995)"
      ]
     },
     "execution_count": 6,
     "metadata": {},
     "output_type": "execute_result"
    }
   ],
   "source": [
    "movies.head()"
   ]
  },
  {
   "cell_type": "code",
   "execution_count": 3,
   "metadata": {},
   "outputs": [
    {
     "data": {
      "text/html": [
       "<div>\n",
       "<style scoped>\n",
       "    .dataframe tbody tr th:only-of-type {\n",
       "        vertical-align: middle;\n",
       "    }\n",
       "\n",
       "    .dataframe tbody tr th {\n",
       "        vertical-align: top;\n",
       "    }\n",
       "\n",
       "    .dataframe thead th {\n",
       "        text-align: right;\n",
       "    }\n",
       "</style>\n",
       "<table border=\"1\" class=\"dataframe\">\n",
       "  <thead>\n",
       "    <tr style=\"text-align: right;\">\n",
       "      <th></th>\n",
       "      <th>user_id</th>\n",
       "      <th>movie_id</th>\n",
       "      <th>rating</th>\n",
       "      <th>timestamp</th>\n",
       "    </tr>\n",
       "  </thead>\n",
       "  <tbody>\n",
       "    <tr>\n",
       "      <th>0</th>\n",
       "      <td>196</td>\n",
       "      <td>242</td>\n",
       "      <td>3</td>\n",
       "      <td>881250949</td>\n",
       "    </tr>\n",
       "    <tr>\n",
       "      <th>1</th>\n",
       "      <td>186</td>\n",
       "      <td>302</td>\n",
       "      <td>3</td>\n",
       "      <td>891717742</td>\n",
       "    </tr>\n",
       "    <tr>\n",
       "      <th>2</th>\n",
       "      <td>22</td>\n",
       "      <td>377</td>\n",
       "      <td>1</td>\n",
       "      <td>878887116</td>\n",
       "    </tr>\n",
       "    <tr>\n",
       "      <th>3</th>\n",
       "      <td>244</td>\n",
       "      <td>51</td>\n",
       "      <td>2</td>\n",
       "      <td>880606923</td>\n",
       "    </tr>\n",
       "    <tr>\n",
       "      <th>4</th>\n",
       "      <td>166</td>\n",
       "      <td>346</td>\n",
       "      <td>1</td>\n",
       "      <td>886397596</td>\n",
       "    </tr>\n",
       "  </tbody>\n",
       "</table>\n",
       "</div>"
      ],
      "text/plain": [
       "   user_id  movie_id  rating  timestamp\n",
       "0      196       242       3  881250949\n",
       "1      186       302       3  891717742\n",
       "2       22       377       1  878887116\n",
       "3      244        51       2  880606923\n",
       "4      166       346       1  886397596"
      ]
     },
     "execution_count": 3,
     "metadata": {},
     "output_type": "execute_result"
    }
   ],
   "source": [
    "ratings.head()"
   ]
  },
  {
   "cell_type": "markdown",
   "metadata": {},
   "source": [
    "In our ratings dataframe, we don't really need the timestamp column. Remove this column from the dataframe."
   ]
  },
  {
   "cell_type": "code",
   "execution_count": null,
   "metadata": {
    "collapsed": true
   },
   "outputs": [],
   "source": [
    "ratings =  # TODO: remove timestamp column"
   ]
  },
  {
   "cell_type": "code",
   "execution_count": 4,
   "metadata": {},
   "outputs": [],
   "source": [
    "### SOLUTION ###\n",
    "ratings = ratings.drop(['timestamp'], axis=1)"
   ]
  },
  {
   "cell_type": "markdown",
   "metadata": {},
   "source": [
    "Now we will try to combine the ratings with the movie titles. We will write a function that can turn a column with movie id's into a column with movie names. By turning this into a function, we can easily apply it to other dataframes later."
   ]
  },
  {
   "cell_type": "code",
   "execution_count": null,
   "metadata": {
    "collapsed": true
   },
   "outputs": [],
   "source": [
    "def add_titles(df, movie_titles_df):\n",
    "    df =  # merge dataframes\n",
    "    df =  # remove movie_id column\n",
    "    return df"
   ]
  },
  {
   "cell_type": "code",
   "execution_count": 6,
   "metadata": {},
   "outputs": [],
   "source": [
    "### SOLUTION ###\n",
    "def add_titles(df, movie_titles_df):\n",
    "    df = df.merge(movie_titles_df, on='movie_id')\n",
    "    df = df.drop(['movie_id'], axis=1)\n",
    "    return df"
   ]
  },
  {
   "cell_type": "code",
   "execution_count": 7,
   "metadata": {},
   "outputs": [
    {
     "data": {
      "text/html": [
       "<div>\n",
       "<style scoped>\n",
       "    .dataframe tbody tr th:only-of-type {\n",
       "        vertical-align: middle;\n",
       "    }\n",
       "\n",
       "    .dataframe tbody tr th {\n",
       "        vertical-align: top;\n",
       "    }\n",
       "\n",
       "    .dataframe thead th {\n",
       "        text-align: right;\n",
       "    }\n",
       "</style>\n",
       "<table border=\"1\" class=\"dataframe\">\n",
       "  <thead>\n",
       "    <tr style=\"text-align: right;\">\n",
       "      <th></th>\n",
       "      <th>user_id</th>\n",
       "      <th>rating</th>\n",
       "      <th>title</th>\n",
       "    </tr>\n",
       "  </thead>\n",
       "  <tbody>\n",
       "    <tr>\n",
       "      <th>0</th>\n",
       "      <td>196</td>\n",
       "      <td>3</td>\n",
       "      <td>Kolya (1996)</td>\n",
       "    </tr>\n",
       "    <tr>\n",
       "      <th>1</th>\n",
       "      <td>63</td>\n",
       "      <td>3</td>\n",
       "      <td>Kolya (1996)</td>\n",
       "    </tr>\n",
       "    <tr>\n",
       "      <th>2</th>\n",
       "      <td>226</td>\n",
       "      <td>5</td>\n",
       "      <td>Kolya (1996)</td>\n",
       "    </tr>\n",
       "    <tr>\n",
       "      <th>3</th>\n",
       "      <td>154</td>\n",
       "      <td>3</td>\n",
       "      <td>Kolya (1996)</td>\n",
       "    </tr>\n",
       "    <tr>\n",
       "      <th>4</th>\n",
       "      <td>306</td>\n",
       "      <td>5</td>\n",
       "      <td>Kolya (1996)</td>\n",
       "    </tr>\n",
       "  </tbody>\n",
       "</table>\n",
       "</div>"
      ],
      "text/plain": [
       "   user_id  rating         title\n",
       "0      196       3  Kolya (1996)\n",
       "1       63       3  Kolya (1996)\n",
       "2      226       5  Kolya (1996)\n",
       "3      154       3  Kolya (1996)\n",
       "4      306       5  Kolya (1996)"
      ]
     },
     "execution_count": 7,
     "metadata": {},
     "output_type": "execute_result"
    }
   ],
   "source": [
    "ratings = add_titles(ratings, movies)\n",
    "ratings.head()"
   ]
  },
  {
   "cell_type": "markdown",
   "metadata": {},
   "source": [
    "You should not remove the movie id column without thinking though. This id could separate two movies with the same title (and year) that are not the same. However, in this case, this is not necessary so we can safely remove it."
   ]
  },
  {
   "cell_type": "markdown",
   "metadata": {},
   "source": [
    "## 2. Creating your own movie profile"
   ]
  },
  {
   "cell_type": "markdown",
   "metadata": {},
   "source": [
    "Now we have a dataframe that describes how a lot of users rate movies. The idea of collaborative filtering is to find a users that are similar to you and look at the movies they like or don't like. Your own ratings can be predicted based on the ratings your \"neighbours\" give these movies.\n",
    "\n",
    "So before we can find your neighbours, you need to rate a couple of movies. Let's create a movie profile for you."
   ]
  },
  {
   "cell_type": "markdown",
   "metadata": {},
   "source": [
    "### 2.1. Getting the most famous movies"
   ]
  },
  {
   "cell_type": "markdown",
   "metadata": {},
   "source": [
    "The first step will be to filter our movies. To make sure you know the movies you're about to rate, we will find the 100 most reviewed movies.\n",
    "\n",
    "Follow these steps:\n",
    "- Group the ratings dataframe by title\n",
    "- On these grouped items, apply the count function, this will give you a dataframe\n",
    "- Select the rating column. (Hint: `df[\"colname\"]`)\n",
    "- Sort the values descending, so the most reviewed titles appear on top.\n",
    "- Take the first 100 rows. (Hint: use `head()`)\n",
    "\n",
    "You can do this all in one long chain and assign it to a new dataframe."
   ]
  },
  {
   "cell_type": "code",
   "execution_count": null,
   "metadata": {
    "collapsed": true
   },
   "outputs": [],
   "source": [
    "most_famous_movies =  # TODO: group, count, select, sort and take first 100"
   ]
  },
  {
   "cell_type": "code",
   "execution_count": 8,
   "metadata": {},
   "outputs": [],
   "source": [
    "### SOLUTION ###\n",
    "most_famous_movies = ratings.groupby(\"title\").count().rating.sort_values(ascending=False).head(100)"
   ]
  },
  {
   "cell_type": "markdown",
   "metadata": {},
   "source": [
    "Have a look at the result with `head()`. The most reviewed movie should have 583 reviews. Can you guess which one it is?"
   ]
  },
  {
   "cell_type": "code",
   "execution_count": null,
   "metadata": {
    "collapsed": true
   },
   "outputs": [],
   "source": [
    "# TODO: check result"
   ]
  },
  {
   "cell_type": "code",
   "execution_count": 9,
   "metadata": {},
   "outputs": [
    {
     "data": {
      "text/plain": [
       "title\n",
       "Star Wars (1977)             583\n",
       "Contact (1997)               509\n",
       "Fargo (1996)                 508\n",
       "Return of the Jedi (1983)    507\n",
       "Liar Liar (1997)             485\n",
       "Name: rating, dtype: int64"
      ]
     },
     "execution_count": 9,
     "metadata": {},
     "output_type": "execute_result"
    }
   ],
   "source": [
    "### SOLUTION ###\n",
    "most_famous_movies.head()"
   ]
  },
  {
   "cell_type": "markdown",
   "metadata": {},
   "source": [
    "You might also notice that this result is not displayed as a table anymore. That is because the result has only an index and one column, so pandas turned it into a [Series](https://pandas.pydata.org/pandas-docs/stable/generated/pandas.Series.html) instead. Luckily for us, series work almost exactly the same as dataframes."
   ]
  },
  {
   "cell_type": "markdown",
   "metadata": {},
   "source": [
    "### 2.2. Rating a few of the most famous movies"
   ]
  },
  {
   "cell_type": "markdown",
   "metadata": {},
   "source": [
    "Now onto step 2: reviewing these movies. We will write a loop that will present a movie title to you and asks you to rate it. You don't want to rate all 100 movies though, let's just rate five of them.\n",
    "\n",
    "First, we want a small function that allows you to enter a number. So write a function that:\n",
    "- Gets input from the user. (Hint: experiment with `input(\"Hello\")`.)\n",
    "- Then check if the entered text is a number.\n",
    "- If the text is a number between 1 and 5: return the number\n",
    "- Else: return None (python's null value)"
   ]
  },
  {
   "cell_type": "code",
   "execution_count": null,
   "metadata": {
    "collapsed": true
   },
   "outputs": [],
   "source": [
    "def get_int_input(descr):\n",
    "    # TODO: write function"
   ]
  },
  {
   "cell_type": "code",
   "execution_count": 10,
   "metadata": {},
   "outputs": [],
   "source": [
    "### SOLUTION ###\n",
    "def get_int_input(descr):\n",
    "    s = input(descr)\n",
    "    return int(s) if s.isdigit() and int(s) >= 1 and int(s) <= 5 else None"
   ]
  },
  {
   "cell_type": "markdown",
   "metadata": {},
   "source": [
    "Now we write a loop that keeps showing you movie titles until you have rated 5 of them.\n",
    "\n",
    "Here are the steps:\n",
    "- Create a new, empty dataframe with columns \"title\" and \"rating\".\n",
    "- Shuffle the most famous movies. (Hint: check pandas' `sample` function)\n",
    "- Ask rating for every movie.\n",
    "- Append result to the new dataframe if it is not None. (Hint: it's easy to append a dict to a df if you set `ignore_index` to True)\n",
    "- If we have enough ratings: break the loop.\n",
    "\n",
    "When you are done you can run the cell and rate five movies. You can skip the ones you don't know by pressing enter, or anything other than a number."
   ]
  },
  {
   "cell_type": "code",
   "execution_count": null,
   "metadata": {
    "collapsed": true
   },
   "outputs": [],
   "source": [
    "user_ratings =  # TODO: create new dataframe\n",
    "ratings_needed = 5\n",
    "shuffled_movies =  # TODO: shuffle most_famous_movies\n",
    "\n",
    "for title, row in shuffled_movies.iteritems():\n",
    "    rating = get_int_input(\"What rating (1-5) would you give to the movie \" + title + \"? \")\n",
    "    \n",
    "    # TODO: append rating to user_ratings if it is not None\n",
    "    \n",
    "    if len(user_ratings) >= ratings_needed:\n",
    "        break"
   ]
  },
  {
   "cell_type": "code",
   "execution_count": 11,
   "metadata": {
    "scrolled": true
   },
   "outputs": [
    {
     "name": "stdout",
     "output_type": "stream",
     "text": [
      "What rating (1-5) would you give to the movie Terminator 2: Judgment Day (1991)? 6\n",
      "What rating (1-5) would you give to the movie Clockwork Orange, A (1971)? 1\n",
      "What rating (1-5) would you give to the movie Game, The (1997)? 2\n",
      "What rating (1-5) would you give to the movie Twelve Monkeys (1995)? 2\n",
      "What rating (1-5) would you give to the movie Speed (1994)? 5\n",
      "What rating (1-5) would you give to the movie Dances with Wolves (1990)? 4\n"
     ]
    }
   ],
   "source": [
    "### SOLUTION ###\n",
    "user_ratings = pd.DataFrame(columns=[\"title\", \"rating\"])\n",
    "ratings_needed = 5\n",
    "shuffled_movies = most_famous_movies.sample(frac=1)\n",
    "\n",
    "for title, row in shuffled_movies.iteritems():\n",
    "    rating = get_int_input(\"What rating (1-5) would you give to the movie \" + title + \"? \")\n",
    "    \n",
    "    if rating  is not None:\n",
    "        user_ratings = user_ratings.append({\n",
    "            \"title\": title, \"rating\": rating\n",
    "        }, ignore_index=True)\n",
    "    \n",
    "    if len(user_ratings) >= ratings_needed:\n",
    "        break"
   ]
  },
  {
   "cell_type": "code",
   "execution_count": 12,
   "metadata": {},
   "outputs": [
    {
     "data": {
      "text/plain": [
       "title\n",
       "Star Wars (1977)                                583\n",
       "Contact (1997)                                  509\n",
       "Fargo (1996)                                    508\n",
       "Return of the Jedi (1983)                       507\n",
       "Liar Liar (1997)                                485\n",
       "English Patient, The (1996)                     481\n",
       "Scream (1996)                                   478\n",
       "Toy Story (1995)                                452\n",
       "Air Force One (1997)                            431\n",
       "Independence Day (ID4) (1996)                   429\n",
       "Raiders of the Lost Ark (1981)                  420\n",
       "Godfather, The (1972)                           413\n",
       "Pulp Fiction (1994)                             394\n",
       "Twelve Monkeys (1995)                           392\n",
       "Silence of the Lambs, The (1991)                390\n",
       "Jerry Maguire (1996)                            384\n",
       "Chasing Amy (1997)                              379\n",
       "Rock, The (1996)                                378\n",
       "Empire Strikes Back, The (1980)                 367\n",
       "Star Trek: First Contact (1996)                 365\n",
       "Back to the Future (1985)                       350\n",
       "Titanic (1997)                                  350\n",
       "Mission: Impossible (1996)                      344\n",
       "Fugitive, The (1993)                            336\n",
       "Indiana Jones and the Last Crusade (1989)       331\n",
       "Willy Wonka and the Chocolate Factory (1971)    326\n",
       "Princess Bride, The (1987)                      324\n",
       "Forrest Gump (1994)                             321\n",
       "Monty Python and the Holy Grail (1974)          316\n",
       "Saint, The (1997)                               316\n",
       "                                               ... \n",
       "Wizard of Oz, The (1939)                        246\n",
       "Star Trek: The Wrath of Khan (1982)             244\n",
       "Phenomenon (1996)                               244\n",
       "Die Hard (1988)                                 243\n",
       "Casablanca (1942)                               243\n",
       "Sting, The (1973)                               241\n",
       "Dante's Peak (1997)                             240\n",
       "Devil's Own, The (1997)                         240\n",
       "Psycho (1960)                                   239\n",
       "Graduate, The (1967)                            239\n",
       "Seven (Se7en) (1995)                            236\n",
       "Time to Kill, A (1996)                          232\n",
       "It's a Wonderful Life (1946)                    231\n",
       "Speed (1994)                                    230\n",
       "In & Out (1997)                                 230\n",
       "Stand by Me (1986)                              227\n",
       "Hunt for Red October, The (1990)                227\n",
       "GoodFellas (1990)                               226\n",
       "Heat (1995)                                     223\n",
       "Sound of Music, The (1965)                      222\n",
       "Courage Under Fire (1996)                       221\n",
       "Apocalypse Now (1979)                           221\n",
       "Clockwork Orange, A (1971)                      221\n",
       "Lion King, The (1994)                           220\n",
       "Top Gun (1986)                                  220\n",
       "Babe (1995)                                     219\n",
       "Volcano (1997)                                  219\n",
       "To Kill a Mockingbird (1962)                    219\n",
       "Aladdin (1992)                                  219\n",
       "Murder at 1600 (1997)                           218\n",
       "Name: rating, Length: 100, dtype: int64"
      ]
     },
     "execution_count": 12,
     "metadata": {},
     "output_type": "execute_result"
    }
   ],
   "source": [
    "most_famous_movies"
   ]
  },
  {
   "cell_type": "markdown",
   "metadata": {},
   "source": [
    "Now you can view your profile:"
   ]
  },
  {
   "cell_type": "code",
   "execution_count": 13,
   "metadata": {},
   "outputs": [
    {
     "data": {
      "text/html": [
       "<div>\n",
       "<style scoped>\n",
       "    .dataframe tbody tr th:only-of-type {\n",
       "        vertical-align: middle;\n",
       "    }\n",
       "\n",
       "    .dataframe tbody tr th {\n",
       "        vertical-align: top;\n",
       "    }\n",
       "\n",
       "    .dataframe thead th {\n",
       "        text-align: right;\n",
       "    }\n",
       "</style>\n",
       "<table border=\"1\" class=\"dataframe\">\n",
       "  <thead>\n",
       "    <tr style=\"text-align: right;\">\n",
       "      <th></th>\n",
       "      <th>title</th>\n",
       "      <th>rating</th>\n",
       "    </tr>\n",
       "  </thead>\n",
       "  <tbody>\n",
       "    <tr>\n",
       "      <th>0</th>\n",
       "      <td>Clockwork Orange, A (1971)</td>\n",
       "      <td>1</td>\n",
       "    </tr>\n",
       "    <tr>\n",
       "      <th>1</th>\n",
       "      <td>Game, The (1997)</td>\n",
       "      <td>2</td>\n",
       "    </tr>\n",
       "    <tr>\n",
       "      <th>2</th>\n",
       "      <td>Twelve Monkeys (1995)</td>\n",
       "      <td>2</td>\n",
       "    </tr>\n",
       "    <tr>\n",
       "      <th>3</th>\n",
       "      <td>Speed (1994)</td>\n",
       "      <td>5</td>\n",
       "    </tr>\n",
       "    <tr>\n",
       "      <th>4</th>\n",
       "      <td>Dances with Wolves (1990)</td>\n",
       "      <td>4</td>\n",
       "    </tr>\n",
       "  </tbody>\n",
       "</table>\n",
       "</div>"
      ],
      "text/plain": [
       "                        title rating\n",
       "0  Clockwork Orange, A (1971)      1\n",
       "1            Game, The (1997)      2\n",
       "2       Twelve Monkeys (1995)      2\n",
       "3                Speed (1994)      5\n",
       "4   Dances with Wolves (1990)      4"
      ]
     },
     "execution_count": 13,
     "metadata": {},
     "output_type": "execute_result"
    }
   ],
   "source": [
    "user_ratings"
   ]
  },
  {
   "cell_type": "markdown",
   "metadata": {},
   "source": [
    "## 3. Predicting ratings"
   ]
  },
  {
   "cell_type": "markdown",
   "metadata": {},
   "source": [
    "Based on these ratings, we will predict your opinion about other movies. The general approach to find your rating for a certain movie, is to look at all the users that have rated this movie and then take the average of their ratings for this movie. We multiply their rating by a weight though, based on how similar the users's ratings are to your own.\n",
    "\n",
    "Now let's do that step by step."
   ]
  },
  {
   "cell_type": "markdown",
   "metadata": {},
   "source": [
    "We begin with the most basic function: getting a movie title based on an id. This will make it easier for us to test our code, because we won't need to type the entire movie title every time.\n",
    "\n",
    "Write a function that uses the `movies` dataframe to return the title of a movie id. You'll need some pandas for this."
   ]
  },
  {
   "cell_type": "code",
   "execution_count": null,
   "metadata": {
    "collapsed": true
   },
   "outputs": [],
   "source": [
    "def get_movie_title(movie_id):\n",
    "    # TODO: complete function"
   ]
  },
  {
   "cell_type": "code",
   "execution_count": 14,
   "metadata": {},
   "outputs": [],
   "source": [
    "### SOLUTION ###\n",
    "def get_movie_title(movie_id):\n",
    "    return movies[movies.movie_id==movie_id][\"title\"].iloc[0]"
   ]
  },
  {
   "cell_type": "markdown",
   "metadata": {},
   "source": [
    "Now we can use the function to select a movie:"
   ]
  },
  {
   "cell_type": "code",
   "execution_count": 15,
   "metadata": {},
   "outputs": [
    {
     "data": {
      "text/plain": [
       "'Toy Story (1995)'"
      ]
     },
     "execution_count": 15,
     "metadata": {},
     "output_type": "execute_result"
    }
   ],
   "source": [
    "selected_movie = get_movie_title(1)\n",
    "selected_movie"
   ]
  },
  {
   "cell_type": "markdown",
   "metadata": {},
   "source": [
    "We will have a look at your predicted rating for this movie. If you rated this one, you can change the movie id."
   ]
  },
  {
   "cell_type": "markdown",
   "metadata": {},
   "source": [
    "### 3.1. Normalising ratings"
   ]
  },
  {
   "cell_type": "markdown",
   "metadata": {},
   "source": [
    "The next important part is to normalise your ratings. Basically you divide them all by the average. We do this because, if you always gave movies five stars, that says less about your taste than if you rated some higher and some lower. It also centers your ratings around zero. A negative rating means you enjoyed it less than usual, a positive rating means you liked it more than usual.\n",
    "\n",
    "From your user_ratings dataframe, calculate the average of your rating column. Store this as a variable, we will need it later."
   ]
  },
  {
   "cell_type": "code",
   "execution_count": null,
   "metadata": {
    "collapsed": true
   },
   "outputs": [],
   "source": [
    "user_avg_rating =  # TODO: calculate your rating average\n",
    "print(user_avg_rating)"
   ]
  },
  {
   "cell_type": "code",
   "execution_count": 16,
   "metadata": {},
   "outputs": [
    {
     "name": "stdout",
     "output_type": "stream",
     "text": [
      "2.8\n"
     ]
    }
   ],
   "source": [
    "### SOLUTION ###\n",
    "user_avg_rating = user_ratings.rating.mean()\n",
    "print(user_avg_rating)"
   ]
  },
  {
   "cell_type": "markdown",
   "metadata": {},
   "source": [
    "### 3.2. Finding voters"
   ]
  },
  {
   "cell_type": "markdown",
   "metadata": {},
   "source": [
    "Now we will have a look at other people who rated our movie. We will refer to them as voters. \n",
    "\n",
    "Filter the ratings dataframe by our selected movie title and then get the id's of those users."
   ]
  },
  {
   "cell_type": "code",
   "execution_count": null,
   "metadata": {
    "collapsed": true
   },
   "outputs": [],
   "source": [
    "voters =  # TODO: find voters id's in rating df"
   ]
  },
  {
   "cell_type": "code",
   "execution_count": 17,
   "metadata": {},
   "outputs": [],
   "source": [
    "### SOLUTION ###\n",
    "voters = ratings[ratings['title']==selected_movie]['user_id']"
   ]
  },
  {
   "cell_type": "code",
   "execution_count": 18,
   "metadata": {},
   "outputs": [
    {
     "name": "stdout",
     "output_type": "stream",
     "text": [
      "Number of voters who rated Toy Story (1995): 452\n"
     ]
    }
   ],
   "source": [
    "print(\"Number of voters who rated {}: {}\".format(selected_movie, len(voters)))"
   ]
  },
  {
   "cell_type": "markdown",
   "metadata": {},
   "source": [
    "If you didn't change the selected movie, there should be 452 voters."
   ]
  },
  {
   "cell_type": "markdown",
   "metadata": {},
   "source": [
    "### 3.3. Comparing one voter to you"
   ]
  },
  {
   "cell_type": "markdown",
   "metadata": {},
   "source": [
    "We will focus on one voter first and compare him to you. After that, we will generalise it for all voters. We will select the first voter for now. We will assign his `user_id` to a variable so we can use it later."
   ]
  },
  {
   "cell_type": "code",
   "execution_count": 19,
   "metadata": {},
   "outputs": [
    {
     "data": {
      "text/plain": [
       "308"
      ]
     },
     "execution_count": 19,
     "metadata": {},
     "output_type": "execute_result"
    }
   ],
   "source": [
    "voter = voters.iloc[0]  # iloc[0] gets the element at index 0\n",
    "voter"
   ]
  },
  {
   "cell_type": "markdown",
   "metadata": {},
   "source": [
    "Now get all the voter's ratings from the ratings dataframe."
   ]
  },
  {
   "cell_type": "code",
   "execution_count": null,
   "metadata": {
    "collapsed": true
   },
   "outputs": [],
   "source": [
    "voter_ratings =  # TODO: get voter's ratings\n",
    "voter_ratings.head()"
   ]
  },
  {
   "cell_type": "code",
   "execution_count": 20,
   "metadata": {},
   "outputs": [
    {
     "data": {
      "text/html": [
       "<div>\n",
       "<style scoped>\n",
       "    .dataframe tbody tr th:only-of-type {\n",
       "        vertical-align: middle;\n",
       "    }\n",
       "\n",
       "    .dataframe tbody tr th {\n",
       "        vertical-align: top;\n",
       "    }\n",
       "\n",
       "    .dataframe thead th {\n",
       "        text-align: right;\n",
       "    }\n",
       "</style>\n",
       "<table border=\"1\" class=\"dataframe\">\n",
       "  <thead>\n",
       "    <tr style=\"text-align: right;\">\n",
       "      <th></th>\n",
       "      <th>user_id</th>\n",
       "      <th>rating</th>\n",
       "      <th>title</th>\n",
       "    </tr>\n",
       "  </thead>\n",
       "  <tbody>\n",
       "    <tr>\n",
       "      <th>845</th>\n",
       "      <td>308</td>\n",
       "      <td>3</td>\n",
       "      <td>Hunt for Red October, The (1990)</td>\n",
       "    </tr>\n",
       "    <tr>\n",
       "      <th>1724</th>\n",
       "      <td>308</td>\n",
       "      <td>4</td>\n",
       "      <td>Men in Black (1997)</td>\n",
       "    </tr>\n",
       "    <tr>\n",
       "      <th>2601</th>\n",
       "      <td>308</td>\n",
       "      <td>3</td>\n",
       "      <td>Sabrina (1995)</td>\n",
       "    </tr>\n",
       "    <tr>\n",
       "      <th>2781</th>\n",
       "      <td>308</td>\n",
       "      <td>4</td>\n",
       "      <td>Man Without a Face, The (1993)</td>\n",
       "    </tr>\n",
       "    <tr>\n",
       "      <th>2813</th>\n",
       "      <td>308</td>\n",
       "      <td>4</td>\n",
       "      <td>Sabrina (1954)</td>\n",
       "    </tr>\n",
       "  </tbody>\n",
       "</table>\n",
       "</div>"
      ],
      "text/plain": [
       "      user_id  rating                             title\n",
       "845       308       3  Hunt for Red October, The (1990)\n",
       "1724      308       4               Men in Black (1997)\n",
       "2601      308       3                    Sabrina (1995)\n",
       "2781      308       4    Man Without a Face, The (1993)\n",
       "2813      308       4                    Sabrina (1954)"
      ]
     },
     "execution_count": 20,
     "metadata": {},
     "output_type": "execute_result"
    }
   ],
   "source": [
    "### SOLUTION ###\n",
    "voter_ratings = ratings[ratings.user_id==voter]\n",
    "voter_ratings.head()"
   ]
  },
  {
   "cell_type": "markdown",
   "metadata": {},
   "source": [
    "We would like to know how similar the voter is to you. If you have rated no movies in common, there is no point in considering him. So let's compare your ratings to his.\n",
    "\n",
    "Combine your ratings with pandas' `merge` function (or alternatives)."
   ]
  },
  {
   "cell_type": "code",
   "execution_count": null,
   "metadata": {
    "collapsed": true
   },
   "outputs": [],
   "source": [
    "mutual_ratings =  # TODO: merge voter_ratings and user_ratings\n",
    "mutual_ratings"
   ]
  },
  {
   "cell_type": "code",
   "execution_count": 21,
   "metadata": {},
   "outputs": [
    {
     "data": {
      "text/html": [
       "<div>\n",
       "<style scoped>\n",
       "    .dataframe tbody tr th:only-of-type {\n",
       "        vertical-align: middle;\n",
       "    }\n",
       "\n",
       "    .dataframe tbody tr th {\n",
       "        vertical-align: top;\n",
       "    }\n",
       "\n",
       "    .dataframe thead th {\n",
       "        text-align: right;\n",
       "    }\n",
       "</style>\n",
       "<table border=\"1\" class=\"dataframe\">\n",
       "  <thead>\n",
       "    <tr style=\"text-align: right;\">\n",
       "      <th></th>\n",
       "      <th>user_id</th>\n",
       "      <th>rating_x</th>\n",
       "      <th>title</th>\n",
       "      <th>rating_y</th>\n",
       "    </tr>\n",
       "  </thead>\n",
       "  <tbody>\n",
       "    <tr>\n",
       "      <th>0</th>\n",
       "      <td>308</td>\n",
       "      <td>5</td>\n",
       "      <td>Speed (1994)</td>\n",
       "      <td>5</td>\n",
       "    </tr>\n",
       "    <tr>\n",
       "      <th>1</th>\n",
       "      <td>308</td>\n",
       "      <td>4</td>\n",
       "      <td>Twelve Monkeys (1995)</td>\n",
       "      <td>2</td>\n",
       "    </tr>\n",
       "    <tr>\n",
       "      <th>2</th>\n",
       "      <td>308</td>\n",
       "      <td>1</td>\n",
       "      <td>Dances with Wolves (1990)</td>\n",
       "      <td>4</td>\n",
       "    </tr>\n",
       "    <tr>\n",
       "      <th>3</th>\n",
       "      <td>308</td>\n",
       "      <td>4</td>\n",
       "      <td>Clockwork Orange, A (1971)</td>\n",
       "      <td>1</td>\n",
       "    </tr>\n",
       "  </tbody>\n",
       "</table>\n",
       "</div>"
      ],
      "text/plain": [
       "   user_id  rating_x                       title rating_y\n",
       "0      308         5                Speed (1994)        5\n",
       "1      308         4       Twelve Monkeys (1995)        2\n",
       "2      308         1   Dances with Wolves (1990)        4\n",
       "3      308         4  Clockwork Orange, A (1971)        1"
      ]
     },
     "execution_count": 21,
     "metadata": {},
     "output_type": "execute_result"
    }
   ],
   "source": [
    "### SOLUTION ###\n",
    "mutual_ratings = pd.merge(voter_ratings, user_ratings, on=\"title\")\n",
    "mutual_ratings"
   ]
  },
  {
   "cell_type": "markdown",
   "metadata": {},
   "source": [
    "Do you and the voter have the same taste, or in other words: do you have many movies in common? We would like to put a number to that question. So let's calculate the correlation coëfficient of your ratings. This says how similar two arrays are and is a function that can be found in numpy. Google a bit until you find the right function. This function gives you a matrix of multiple values as result, you need the element at `[0,1]`.\n",
    "\n",
    "Hint: Get your ratings from the mutual_ratings dataframe and convert them to a list."
   ]
  },
  {
   "cell_type": "code",
   "execution_count": null,
   "metadata": {
    "collapsed": true
   },
   "outputs": [],
   "source": [
    "import numpy as np\n",
    "\n",
    "corr =  # TODO: calculate correlation between your ratings and voter's ratings\n",
    "corr"
   ]
  },
  {
   "cell_type": "code",
   "execution_count": 22,
   "metadata": {},
   "outputs": [
    {
     "data": {
      "text/plain": [
       "-0.10540925533894599"
      ]
     },
     "execution_count": 22,
     "metadata": {},
     "output_type": "execute_result"
    }
   ],
   "source": [
    "import numpy as np\n",
    "\n",
    "### SOLUTION ###\n",
    "corr = np.corrcoef(list(mutual_ratings.rating_x), list(mutual_ratings.rating_y))[0,1]\n",
    "corr"
   ]
  },
  {
   "cell_type": "markdown",
   "metadata": {},
   "source": [
    "If this number is NaN (not a number), then you have no movies in common with this voter or there is not enough distinction between your or his ratings. Just go back, pick another voter and run all the cells up to this point again. We will deal with these cases later."
   ]
  },
  {
   "cell_type": "markdown",
   "metadata": {},
   "source": [
    "Last but not least, we need the voter's rating for our movie and his average rating. Calculate those two and store them in variables."
   ]
  },
  {
   "cell_type": "code",
   "execution_count": null,
   "metadata": {
    "collapsed": true
   },
   "outputs": [],
   "source": [
    "voter_movie_rating =  # TODO: find voter's rating for selected_movie\n",
    "print(voter_movie_rating)\n",
    "\n",
    "voter_avg_rating =  # TODO: calculate voter's average rating\n",
    "print(voter_avg_rating)"
   ]
  },
  {
   "cell_type": "code",
   "execution_count": 23,
   "metadata": {},
   "outputs": [
    {
     "name": "stdout",
     "output_type": "stream",
     "text": [
      "4\n",
      "3.7581863979848866\n"
     ]
    }
   ],
   "source": [
    "### SOLUTION ###\n",
    "voter_movie_rating = voter_ratings[voter_ratings.title==selected_movie][\"rating\"].iloc[0]\n",
    "print(voter_movie_rating)\n",
    "\n",
    "voter_avg_rating = voter_ratings.rating.mean()\n",
    "print(voter_avg_rating)"
   ]
  },
  {
   "cell_type": "markdown",
   "metadata": {},
   "source": [
    "We're almost done with this step. Now comes the magic math: we multiply the voter's normalised rating with his correlation with you. This we divide by the absolute correlation. Then we add your average rating to un-normalise it for you and there is your rating, based on one single voter."
   ]
  },
  {
   "cell_type": "code",
   "execution_count": 24,
   "metadata": {},
   "outputs": [
    {
     "data": {
      "text/plain": [
       "2.5581863979848865"
      ]
     },
     "execution_count": 24,
     "metadata": {},
     "output_type": "execute_result"
    }
   ],
   "source": [
    "correlated_rating = corr * (voter_movie_rating - voter_avg_rating)\n",
    "user_movie_rating = user_avg_rating + (correlated_rating / abs(corr))\n",
    "user_movie_rating"
   ]
  },
  {
   "cell_type": "markdown",
   "metadata": {},
   "source": [
    "### 3.4. Comparing all voters to you"
   ]
  },
  {
   "cell_type": "markdown",
   "metadata": {},
   "source": [
    "We don't want to base our rating on one single voter though. We will edit the code a bit to base it on all users that have rated the movie.\n",
    "\n",
    "We will:\n",
    "- Loop over all the voters.\n",
    "- Calculate the same things we did before for one voter.\n",
    "- Ignore voters with a correlation of NaN.\n",
    "- Sum the absolute correlation and the correlated rating for all voters and then divide them in the end.\n",
    "- Turn this all into a function that we can use again later"
   ]
  },
  {
   "cell_type": "code",
   "execution_count": null,
   "metadata": {
    "collapsed": true
   },
   "outputs": [],
   "source": [
    "def predicted_rating(user_ratings, ratings, selected_movie):\n",
    "    abs_corr_sum = 0\n",
    "    corr_rating_sum = 0\n",
    "    \n",
    "    voters =  # TODO: find voters id's in rating df\n",
    "    \n",
    "    for voter in voters:\n",
    "        # get voter's movies\n",
    "        voter_ratings =  # TODO: get voter's ratings\n",
    "\n",
    "        # check similarity to user not nan\n",
    "        mutual_ratings =  # TODO: merge voter_ratings and user_ratings\n",
    "        corr =  # TODO: calculate correlation between your ratings and voter's ratings\n",
    "\n",
    "        if not np.isnan(corr):\n",
    "            # get selected movie rating\n",
    "            voter_movie_rating =  # TODO: find voter's rating for selected_movie\n",
    "\n",
    "            # get voter's average\n",
    "            voter_avg_rating =  # TODO: calculate voter's average rating\n",
    "\n",
    "            # sum similarity\n",
    "            abs_corr_sum += abs(corr)\n",
    "            corr_rating_sum += corr * (voter_movie_rating - voter_avg_rating)\n",
    "\n",
    "    # calculate predicted rating\n",
    "    user_movie_rating = user_avg_rating + (corr_rating_sum / abs_corr_sum)\n",
    "    return user_movie_rating"
   ]
  },
  {
   "cell_type": "code",
   "execution_count": 25,
   "metadata": {},
   "outputs": [],
   "source": [
    "### SOLUTION ###\n",
    "def predicted_rating(user_ratings, ratings, selected_movie):\n",
    "    abs_corr_sum = 0\n",
    "    corr_rating_sum = 0\n",
    "    \n",
    "    voters = ratings[ratings['title']==selected_movie]['user_id']\n",
    "\n",
    "    for voter in voters:\n",
    "        # get voter's movies\n",
    "        voter_ratings = ratings[ratings.user_id==voter]\n",
    "\n",
    "        # check similarity to user not nan\n",
    "        mutual_ratings = pd.merge(voter_ratings, user_ratings, on=\"title\")\n",
    "        corr = np.corrcoef(list(mutual_ratings.rating_x), list(mutual_ratings.rating_y))[0,1]\n",
    "\n",
    "        if not np.isnan(corr):\n",
    "            # get selected movie rating\n",
    "            voter_movie_rating = ratings[(ratings.user_id==voter) & (ratings.title==selected_movie)][\"rating\"].iloc[0]\n",
    "\n",
    "            # get voter's average\n",
    "            voter_avg_rating = voter_ratings.rating.mean()\n",
    "\n",
    "            # sum similarity\n",
    "            abs_corr_sum += abs(corr)\n",
    "            corr_rating_sum += corr * (voter_movie_rating - voter_avg_rating)\n",
    "\n",
    "    # calculate predicted rating\n",
    "    user_movie_rating = user_avg_rating + (corr_rating_sum / abs_corr_sum)\n",
    "    return user_movie_rating"
   ]
  },
  {
   "cell_type": "markdown",
   "metadata": {},
   "source": [
    "Now we can use our function to get the actual prediction for the movie:"
   ]
  },
  {
   "cell_type": "code",
   "execution_count": 26,
   "metadata": {},
   "outputs": [
    {
     "name": "stderr",
     "output_type": "stream",
     "text": [
      "C:\\Users\\20002681\\AppData\\Local\\Continuum\\anaconda3\\lib\\site-packages\\numpy\\lib\\function_base.py:392: RuntimeWarning: Mean of empty slice.\n",
      "  avg = a.mean(axis)\n",
      "C:\\Users\\20002681\\AppData\\Local\\Continuum\\anaconda3\\lib\\site-packages\\numpy\\core\\_methods.py:78: RuntimeWarning: invalid value encountered in true_divide\n",
      "  ret, rcount, out=ret, casting='unsafe', subok=False)\n",
      "C:\\Users\\20002681\\AppData\\Local\\Continuum\\anaconda3\\lib\\site-packages\\numpy\\lib\\function_base.py:2522: RuntimeWarning: Degrees of freedom <= 0 for slice\n",
      "  c = cov(x, y, rowvar)\n",
      "C:\\Users\\20002681\\AppData\\Local\\Continuum\\anaconda3\\lib\\site-packages\\numpy\\lib\\function_base.py:2451: RuntimeWarning: divide by zero encountered in true_divide\n",
      "  c *= np.true_divide(1, fact)\n",
      "C:\\Users\\20002681\\AppData\\Local\\Continuum\\anaconda3\\lib\\site-packages\\numpy\\lib\\function_base.py:2451: RuntimeWarning: invalid value encountered in multiply\n",
      "  c *= np.true_divide(1, fact)\n",
      "C:\\Users\\20002681\\AppData\\Local\\Continuum\\anaconda3\\lib\\site-packages\\numpy\\lib\\function_base.py:2530: RuntimeWarning: invalid value encountered in true_divide\n",
      "  c /= stddev[:, None]\n",
      "C:\\Users\\20002681\\AppData\\Local\\Continuum\\anaconda3\\lib\\site-packages\\numpy\\lib\\function_base.py:2531: RuntimeWarning: invalid value encountered in true_divide\n",
      "  c /= stddev[None, :]\n"
     ]
    },
    {
     "name": "stdout",
     "output_type": "stream",
     "text": [
      "Predicted rating for Toy Story (1995): 3.0\n"
     ]
    }
   ],
   "source": [
    "print(\"Predicted rating for {}: {}\".format(selected_movie, round(predicted_rating(user_ratings, ratings, selected_movie))))"
   ]
  },
  {
   "cell_type": "code",
   "execution_count": 27,
   "metadata": {},
   "outputs": [],
   "source": [
    "# If you get a lot of warnings (these come from the correlation function), you can run this cell to turn all warnings off.\n",
    "import warnings\n",
    "warnings.filterwarnings('ignore')"
   ]
  },
  {
   "cell_type": "markdown",
   "metadata": {},
   "source": [
    "You are now ready to make predictions! Try it for different movies, and see if it accurately reflects your tastes. If it does, you can use it to decide which movie to watch tonight! (Bear in mind though that this rating is only based on five ratings of yours, so it might not always be accurate.)"
   ]
  },
  {
   "cell_type": "code",
   "execution_count": 29,
   "metadata": {},
   "outputs": [
    {
     "name": "stdout",
     "output_type": "stream",
     "text": [
      "Predicted rating for Get Shorty (1995): 3.0\n"
     ]
    }
   ],
   "source": [
    "movie = get_movie_title(4)\n",
    "print(\"Predicted rating for {}: {}\".format(movie, round(predicted_rating(user_ratings, ratings, movie))))"
   ]
  },
  {
   "cell_type": "markdown",
   "metadata": {},
   "source": [
    "## 4. Finding recommendations"
   ]
  },
  {
   "cell_type": "markdown",
   "metadata": {},
   "source": [
    "Now we can predict ratings for a specific movie, but when you're wondering what to watch you won't know which movie to look for. We could calculate the predicted rating for every single movie, but there is another solution as well. We could find the voters that are most similar to you, your neighbours, and see which movies they liked most."
   ]
  },
  {
   "cell_type": "markdown",
   "metadata": {},
   "source": [
    "### 4.1. Finding your neighbours"
   ]
  },
  {
   "cell_type": "markdown",
   "metadata": {},
   "source": [
    "Calculate your correlation with every user in the ratings dataframe."
   ]
  },
  {
   "cell_type": "code",
   "execution_count": null,
   "metadata": {
    "collapsed": true
   },
   "outputs": [],
   "source": [
    "corr_list = []\n",
    "for voter in ratings.user_id.unique():\n",
    "    voter_ratings =  # TODO: get voter's ratings\n",
    "    mutual_ratings =  # TODO: merge voter_ratings and user_ratings\n",
    "    corr =  # TODO: calculate correlation between your ratings and voter's ratings\n",
    "    corr_list.append([voter, len(mutual_ratings), corr])\n",
    "voter_corr = pd.DataFrame(corr_list, columns=[\"user_id\", \"movies_in_common\", \"corr\"])"
   ]
  },
  {
   "cell_type": "code",
   "execution_count": 30,
   "metadata": {},
   "outputs": [],
   "source": [
    "### SOLUTION ###\n",
    "corr_list = []\n",
    "for voter in ratings.user_id.unique():\n",
    "    voter_ratings = ratings[ratings.user_id==voter]\n",
    "    mutual_ratings = pd.merge(voter_ratings, user_ratings, on=\"title\")\n",
    "    corr = np.corrcoef(list(mutual_ratings.rating_x), list(mutual_ratings.rating_y))[0,1]\n",
    "    corr_list.append([voter, len(mutual_ratings), corr])\n",
    "voter_corr = pd.DataFrame(corr_list, columns=[\"user_id\", \"movies_in_common\", \"corr\"])"
   ]
  },
  {
   "cell_type": "markdown",
   "metadata": {},
   "source": [
    "Now we have a dataframe of our similarity with all users."
   ]
  },
  {
   "cell_type": "code",
   "execution_count": 31,
   "metadata": {},
   "outputs": [
    {
     "data": {
      "text/html": [
       "<div>\n",
       "<style scoped>\n",
       "    .dataframe tbody tr th:only-of-type {\n",
       "        vertical-align: middle;\n",
       "    }\n",
       "\n",
       "    .dataframe tbody tr th {\n",
       "        vertical-align: top;\n",
       "    }\n",
       "\n",
       "    .dataframe thead th {\n",
       "        text-align: right;\n",
       "    }\n",
       "</style>\n",
       "<table border=\"1\" class=\"dataframe\">\n",
       "  <thead>\n",
       "    <tr style=\"text-align: right;\">\n",
       "      <th></th>\n",
       "      <th>user_id</th>\n",
       "      <th>movies_in_common</th>\n",
       "      <th>corr</th>\n",
       "    </tr>\n",
       "  </thead>\n",
       "  <tbody>\n",
       "    <tr>\n",
       "      <th>0</th>\n",
       "      <td>196</td>\n",
       "      <td>0</td>\n",
       "      <td>NaN</td>\n",
       "    </tr>\n",
       "    <tr>\n",
       "      <th>1</th>\n",
       "      <td>63</td>\n",
       "      <td>1</td>\n",
       "      <td>NaN</td>\n",
       "    </tr>\n",
       "    <tr>\n",
       "      <th>2</th>\n",
       "      <td>226</td>\n",
       "      <td>3</td>\n",
       "      <td>-0.944911</td>\n",
       "    </tr>\n",
       "    <tr>\n",
       "      <th>3</th>\n",
       "      <td>154</td>\n",
       "      <td>1</td>\n",
       "      <td>NaN</td>\n",
       "    </tr>\n",
       "    <tr>\n",
       "      <th>4</th>\n",
       "      <td>306</td>\n",
       "      <td>0</td>\n",
       "      <td>NaN</td>\n",
       "    </tr>\n",
       "  </tbody>\n",
       "</table>\n",
       "</div>"
      ],
      "text/plain": [
       "   user_id  movies_in_common      corr\n",
       "0      196                 0       NaN\n",
       "1       63                 1       NaN\n",
       "2      226                 3 -0.944911\n",
       "3      154                 1       NaN\n",
       "4      306                 0       NaN"
      ]
     },
     "execution_count": 31,
     "metadata": {},
     "output_type": "execute_result"
    }
   ],
   "source": [
    "voter_corr.head()"
   ]
  },
  {
   "cell_type": "markdown",
   "metadata": {},
   "source": [
    "We want to find out which users are most similar to us. In this case, we want the ten users with the most movies in common and the highest correlation.\n",
    "\n",
    "Create a list of similar voters:\n",
    "- Sort the `voter_corr` dataframe, by `movies_in_common` and then by `corr`. Sort the values descending so the highest ones appear on top. \n",
    "- Take the first ten rows to get the most similar users.\n",
    "- Select the `user_id` column. \n",
    "- Cast this result to a list."
   ]
  },
  {
   "cell_type": "code",
   "execution_count": null,
   "metadata": {
    "collapsed": true
   },
   "outputs": [],
   "source": [
    "similar_voters =  # TODO: create list of most similar user_id's\n",
    "print(similar_voters)"
   ]
  },
  {
   "cell_type": "code",
   "execution_count": 32,
   "metadata": {},
   "outputs": [
    {
     "name": "stdout",
     "output_type": "stream",
     "text": [
      "[178, 13, 416, 301, 303, 655, 606, 64, 592, 363]\n"
     ]
    }
   ],
   "source": [
    "### SOLUTION ###\n",
    "similar_voters = list(voter_corr.sort_values([\"movies_in_common\", \"corr\"], ascending=False).head(10).user_id)\n",
    "print(similar_voters)"
   ]
  },
  {
   "cell_type": "markdown",
   "metadata": {},
   "source": [
    "Those are the id's of your neighbours."
   ]
  },
  {
   "cell_type": "markdown",
   "metadata": {},
   "source": [
    "### 4.2. Finding your neighbours favourite movies"
   ]
  },
  {
   "cell_type": "markdown",
   "metadata": {},
   "source": [
    "Now we have a look at those users and the movies they gave high ratings.\n",
    "\n",
    "Follow these steps:\n",
    "- Start from the ratings dataframe.\n",
    "- Filter out user_id's that don't appear in `similar_voters`.\n",
    "- Filter out titles that appear in `user_ratings.title`.\n",
    "- Group by title.\n",
    "- Aggregate by both count and mean.\n",
    "- Select rating column.\n",
    "- Filter out movies with a mean rating of less than 4.\n",
    "- Sort the result, on count and then on mean, descending.\n",
    "- Take the top 10 rows."
   ]
  },
  {
   "cell_type": "code",
   "execution_count": null,
   "metadata": {
    "collapsed": true
   },
   "outputs": [],
   "source": [
    "recommendations =  # TODO: filter voters and already seen movies from ratings df\n",
    "recommendations =  # TODO: group by title and aggregate\n",
    "recommendations =  # TODO: filter mean ratings less than 4\n",
    "recommendations =  # TODO: sort and take first 10\n",
    "recommendations"
   ]
  },
  {
   "cell_type": "code",
   "execution_count": 33,
   "metadata": {},
   "outputs": [
    {
     "data": {
      "text/html": [
       "<div>\n",
       "<style scoped>\n",
       "    .dataframe tbody tr th:only-of-type {\n",
       "        vertical-align: middle;\n",
       "    }\n",
       "\n",
       "    .dataframe tbody tr th {\n",
       "        vertical-align: top;\n",
       "    }\n",
       "\n",
       "    .dataframe thead th {\n",
       "        text-align: right;\n",
       "    }\n",
       "</style>\n",
       "<table border=\"1\" class=\"dataframe\">\n",
       "  <thead>\n",
       "    <tr style=\"text-align: right;\">\n",
       "      <th></th>\n",
       "      <th>count</th>\n",
       "      <th>mean</th>\n",
       "    </tr>\n",
       "    <tr>\n",
       "      <th>title</th>\n",
       "      <th></th>\n",
       "      <th></th>\n",
       "    </tr>\n",
       "  </thead>\n",
       "  <tbody>\n",
       "    <tr>\n",
       "      <th>Chasing Amy (1997)</th>\n",
       "      <td>11</td>\n",
       "      <td>4.181818</td>\n",
       "    </tr>\n",
       "    <tr>\n",
       "      <th>Star Wars (1977)</th>\n",
       "      <td>10</td>\n",
       "      <td>4.900000</td>\n",
       "    </tr>\n",
       "    <tr>\n",
       "      <th>Empire Strikes Back, The (1980)</th>\n",
       "      <td>10</td>\n",
       "      <td>4.700000</td>\n",
       "    </tr>\n",
       "    <tr>\n",
       "      <th>Godfather, The (1972)</th>\n",
       "      <td>10</td>\n",
       "      <td>4.700000</td>\n",
       "    </tr>\n",
       "    <tr>\n",
       "      <th>Fargo (1996)</th>\n",
       "      <td>10</td>\n",
       "      <td>4.600000</td>\n",
       "    </tr>\n",
       "    <tr>\n",
       "      <th>Pulp Fiction (1994)</th>\n",
       "      <td>10</td>\n",
       "      <td>4.600000</td>\n",
       "    </tr>\n",
       "    <tr>\n",
       "      <th>Raiders of the Lost Ark (1981)</th>\n",
       "      <td>10</td>\n",
       "      <td>4.600000</td>\n",
       "    </tr>\n",
       "    <tr>\n",
       "      <th>Return of the Jedi (1983)</th>\n",
       "      <td>10</td>\n",
       "      <td>4.500000</td>\n",
       "    </tr>\n",
       "    <tr>\n",
       "      <th>Alien (1979)</th>\n",
       "      <td>10</td>\n",
       "      <td>4.400000</td>\n",
       "    </tr>\n",
       "    <tr>\n",
       "      <th>Field of Dreams (1989)</th>\n",
       "      <td>10</td>\n",
       "      <td>4.400000</td>\n",
       "    </tr>\n",
       "  </tbody>\n",
       "</table>\n",
       "</div>"
      ],
      "text/plain": [
       "                                 count      mean\n",
       "title                                           \n",
       "Chasing Amy (1997)                  11  4.181818\n",
       "Star Wars (1977)                    10  4.900000\n",
       "Empire Strikes Back, The (1980)     10  4.700000\n",
       "Godfather, The (1972)               10  4.700000\n",
       "Fargo (1996)                        10  4.600000\n",
       "Pulp Fiction (1994)                 10  4.600000\n",
       "Raiders of the Lost Ark (1981)      10  4.600000\n",
       "Return of the Jedi (1983)           10  4.500000\n",
       "Alien (1979)                        10  4.400000\n",
       "Field of Dreams (1989)              10  4.400000"
      ]
     },
     "execution_count": 33,
     "metadata": {},
     "output_type": "execute_result"
    }
   ],
   "source": [
    "### SOLUTION ###\n",
    "recommendations = ratings[(ratings.user_id.isin(similar_voters)) & (~ratings.title.isin(user_ratings.title))]\n",
    "recommendations = recommendations.groupby(\"title\").agg([\"count\",\"mean\"])[\"rating\"]\n",
    "recommendations = recommendations[recommendations[\"mean\"] >= 4]\n",
    "recommendations = recommendations.sort_values([\"count\",\"mean\"], ascending=False).head(10)\n",
    "recommendations"
   ]
  },
  {
   "cell_type": "markdown",
   "metadata": {},
   "source": [
    "There you go, you have just built your own recomendation engine from scratch. Time to start making money!"
   ]
  }
 ],
 "metadata": {
  "anaconda-cloud": {},
  "kernelspec": {
   "display_name": "Python 3",
   "language": "python",
   "name": "python3"
  },
  "language_info": {
   "codemirror_mode": {
    "name": "ipython",
    "version": 3
   },
   "file_extension": ".py",
   "mimetype": "text/x-python",
   "name": "python",
   "nbconvert_exporter": "python",
   "pygments_lexer": "ipython3",
   "version": "3.7.3"
  }
 },
 "nbformat": 4,
 "nbformat_minor": 1
}
